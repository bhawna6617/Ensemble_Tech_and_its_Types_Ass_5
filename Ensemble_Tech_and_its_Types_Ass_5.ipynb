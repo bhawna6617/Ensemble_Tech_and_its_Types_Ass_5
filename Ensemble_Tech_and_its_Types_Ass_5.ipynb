{
 "cells": [
  {
   "cell_type": "code",
   "execution_count": 1,
   "id": "fc58215a",
   "metadata": {},
   "outputs": [],
   "source": [
    "# from sklearn.pipeline import Pipeline\n",
    "# from sklearn.compose import ColumnTransformer\n",
    "# from sklearn.impute import SimpleImputer\n",
    "# from sklearn.preprocessing import StandardScaler, OneHotEncoder\n",
    "# from sklearn.ensemble import RandomForestClassifier\n",
    "# from sklearn.feature_selection import SelectFromModel\n",
    "# from sklearn.model_selection import train_test_split\n",
    "# from sklearn.metrics import accuracy_score\n",
    "\n",
    "# # Assuming X_train, X_test, y_train, y_test are your training and test data\n",
    "# # Define feature selection method\n",
    "# feature_selection = SelectFromModel(RandomForestClassifier(n_estimators=100))\n",
    "\n",
    "# # Define numerical pipeline\n",
    "# numerical_pipeline = Pipeline([\n",
    "#     ('imputer', SimpleImputer(strategy='mean')),\n",
    "#     ('scaler', StandardScaler())\n",
    "# ])\n",
    "\n",
    "# # Define categorical pipeline\n",
    "# categorical_pipeline = Pipeline([\n",
    "#     ('imputer', SimpleImputer(strategy='most_frequent')),\n",
    "#     ('onehot', OneHotEncoder(handle_unknown='ignore'))\n",
    "# ])\n",
    "\n",
    "# # Combine numerical and categorical pipelines\n",
    "# preprocessor = ColumnTransformer([\n",
    "#     ('num', numerical_pipeline, numerical_features),\n",
    "#     ('cat', categorical_pipeline, categorical_features)\n",
    "# ])\n",
    "\n",
    "# # Final pipeline\n",
    "# pipeline = Pipeline([\n",
    "#     ('feature_selection', feature_selection),\n",
    "#     ('preprocessor', preprocessor),\n",
    "#     ('classifier', RandomForestClassifier(n_estimators=100))\n",
    "# ])\n",
    "\n",
    "# # Fit the pipeline\n",
    "# pipeline.fit(X_train, y_train)\n",
    "\n",
    "# # Evaluate the accuracy of the model on the test dataset\n",
    "# y_pred = pipeline.predict(X_test)\n",
    "# accuracy = accuracy_score(y_test, y_pred)\n",
    "# print(\"Accuracy:\", accuracy)\n"
   ]
  },
  {
   "cell_type": "markdown",
   "id": "59099dd6",
   "metadata": {},
   "source": [
    "# ques 2"
   ]
  },
  {
   "cell_type": "code",
   "execution_count": 2,
   "id": "bfea30e4",
   "metadata": {},
   "outputs": [],
   "source": [
    "# from sklearn.ensemble import RandomForestClassifier, VotingClassifier\n",
    "# from sklearn.linear_model import LogisticRegression\n",
    "# from sklearn.pipeline import Pipeline\n",
    "# from sklearn.model_selection import train_test_split\n",
    "# from sklearn.metrics import accuracy_score\n",
    "\n",
    "# # Assuming X_train, X_test, y_train, y_test are your training and test data\n",
    "\n",
    "# # Define individual classifiers\n",
    "# rf_classifier = RandomForestClassifier(n_estimators=100)\n",
    "# lr_classifier = LogisticRegression(max_iter=1000)\n",
    "\n",
    "# # Define the voting classifier with soft voting\n",
    "# voting_classifier = VotingClassifier(estimators=[\n",
    "#     ('rf', rf_classifier),\n",
    "#     ('lr', lr_classifier)\n",
    "# ], voting='soft')\n",
    "\n",
    "# # Define the pipeline with the voting classifier\n",
    "# pipeline = Pipeline([\n",
    "#     ('voting', voting_classifier)\n",
    "# ])\n",
    "\n",
    "# # Fit the pipeline\n",
    "# pipeline.fit(X_train, y_train)\n",
    "\n",
    "# # Evaluate the accuracy of the model on the test dataset\n",
    "# y_pred = pipeline.predict(X_test)\n",
    "# accuracy = accuracy_score(y_test, y_pred)\n",
    "# print(\"Accuracy:\", accuracy)\n"
   ]
  },
  {
   "cell_type": "code",
   "execution_count": null,
   "id": "c4c43683",
   "metadata": {},
   "outputs": [],
   "source": []
  }
 ],
 "metadata": {
  "kernelspec": {
   "display_name": "Python 3 (ipykernel)",
   "language": "python",
   "name": "python3"
  },
  "language_info": {
   "codemirror_mode": {
    "name": "ipython",
    "version": 3
   },
   "file_extension": ".py",
   "mimetype": "text/x-python",
   "name": "python",
   "nbconvert_exporter": "python",
   "pygments_lexer": "ipython3",
   "version": "3.11.5"
  }
 },
 "nbformat": 4,
 "nbformat_minor": 5
}
